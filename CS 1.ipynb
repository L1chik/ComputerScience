{
 "cells": [
  {
   "cell_type": "markdown",
   "id": "5ef9b6d7",
   "metadata": {
    "ExecuteTime": {
     "end_time": "2021-10-17T07:09:43.704893Z",
     "start_time": "2021-10-17T07:09:43.698909Z"
    }
   },
   "source": [
    "# 1\n",
    "## Установка python \n",
    "### https://www.python.org/downloads/ \n",
    "3.9, рассказать про 3.10 **наверное на другом занятии**"
   ]
  },
  {
   "cell_type": "markdown",
   "id": "d376bb83",
   "metadata": {
    "ExecuteTime": {
     "end_time": "2021-10-17T07:09:45.881240Z",
     "start_time": "2021-10-17T07:09:45.870270Z"
    }
   },
   "source": [
    "# 2 Настройка окружения \n",
    "1. **py -0** || показывает доступные версии питона на компьютере\n",
    "2. **Set-ExecutionPolicy Unrestricted** || Разрешить исполнение скриптов в PowerShell\n",
    "3. **py -3.9 -m venv test** || Создаем оркужение с конкретной версией питона\n",
    "4. **D\\All\\ComputerScience\\test\\Scripts\\Activate.ps1** || Активируем окружение"
   ]
  },
  {
   "cell_type": "markdown",
   "id": "1bba52c2",
   "metadata": {
    "ExecuteTime": {
     "end_time": "2021-10-17T07:09:53.541307Z",
     "start_time": "2021-10-17T07:09:53.527373Z"
    }
   },
   "source": [
    "# 3 Установка PyCharm\n",
    "\n",
    "### Настройка визуала: ***Плагин Material Theme UI***, шрифты\n",
    "### Рассказать про HotKeys\n",
    "\n",
    "1. **Alt + ->** || переключение между табами\n",
    "2. **Показать про разделенеи экрана**\n",
    "3. **Ctrl + Home // Ctrl + End** || Переключение в начала и конец файла\n",
    "4. **Ctrl + []** || Перемешение в начало и конец логич. блока \n",
    "5. **Ctrl + Shift + []** || выделение \n",
    "6. **Ctrl + Alr + <-/->** || Перемещает к предыдущему/следующему действию в истории\n",
    "7. **Ctrl + Shift + BackSpace** || Перемещение к последнему изменению в коде\n",
    "8. **Ctrl + B** || Перемещ. к реалзизации: к вызову. функции, к использованию библиотеки.\n",
    "9. **F11 , Shift + F11** || ставит закладку, показывает список всех закладок\n",
    "10. **Ctrl + F11, Ctrl + цифра** || Можно забиндить закладку на клавишу и переместиться к ней\n",
    "11. **Ctrl + Shift + -, Ctrl + Shift + +** || Свернуть/ развернуть ВСЕ блоки файла, можно по отдельности\n",
    "12. **Shift + Shift** || Поиск везде\n",
    "12.1 **Ctrl + N** || поиск классов\n",
    "12.2 **Ctrl + Shift + N** || поиск файлов\n",
    "13. **Ctrl + E, Ctrl + Shift + E** || недавние файлы и места в которых вы были\n",
    "14. **F5, F6** || копия, перемещение файла\n",
    "\n",
    "Для редактирования кода\n",
    "\n",
    "15. **Ctrl + W** || выделение кода с учетом синтаксиса\n",
    "16. **Ctrl + Y** || Удаление всей строки на которой находится курсор\n",
    "17. **Shift + Del** || удал. всю строку, но курсор переносится в начало\n",
    "18. **Ctrl + C** || Без выделения работает для всей строки\n",
    "19. **Ctrl + D** || Дублирование строки\n",
    "20. **Alt + Shift + Down** || Перемещение строки вниз//верх\n",
    "21. **Ctrl + Shift + Down** || Перемещение логического блока вверх вниз\n",
    "22. **Alt + ЛКМ** || мультикурсор\n",
    "\n",
    "23. **Ctrl + Alt + L** || Форматирование выбранного текста по PEP-8 https://www.python.org/dev/peps/pep-0008/\n",
    "24. **Ctrl + Alt + T** || Обёртывание кода\n",
    "25. **Ctrl + Shift + Del** || Убрать из блока кода\n",
    "25. **Alt + J** || Выбрать символ на курсоре \n",
    "26."
   ]
  },
  {
   "cell_type": "markdown",
   "id": "624ec60a",
   "metadata": {},
   "source": [
    "# 4 Установка Jupyter\n",
    "1. **pip install jupyter** || Установить юпитер\n",
    "2. **pip install jupyterthemes** || темы для юпитера\n",
    "\n",
    "3. **pip install jupyter_contrib_nbextensions** || Установка расширений\n",
    "\n",
    "3.1 **jupyter contrib nbextension install** \n",
    "4. **jt -t oceans16**\n",
    "5. **juputer notebook** || запустить ноутбук\n",
    "\n",
    "Установить расширения Auotpep8, Hinterland, ExecuteTime"
   ]
  },
  {
   "cell_type": "code",
   "execution_count": 2,
   "id": "8ed287f7",
   "metadata": {
    "ExecuteTime": {
     "end_time": "2021-10-17T08:34:37.957700Z",
     "start_time": "2021-10-17T08:34:32.616838Z"
    }
   },
   "outputs": [
    {
     "name": "stdout",
     "output_type": "stream",
     "text": [
      "1 2 3\n"
     ]
    },
    {
     "data": {
      "text/plain": [
       "('1', '2', '3')"
      ]
     },
     "execution_count": 2,
     "metadata": {},
     "output_type": "execute_result"
    }
   ],
   "source": [
    "sizes = input()\n",
    "sizes = sizes.strip()\n",
    "sizes = sizes.split()\n",
    "\n",
    "x = sizes[0]\n",
    "y = sizes[1]\n",
    "z = sizes[2]\n",
    "x, y, z"
   ]
  },
  {
   "cell_type": "code",
   "execution_count": 5,
   "id": "31598deb",
   "metadata": {
    "ExecuteTime": {
     "end_time": "2021-10-17T08:35:57.697398Z",
     "start_time": "2021-10-17T08:35:55.897257Z"
    }
   },
   "outputs": [
    {
     "name": "stdout",
     "output_type": "stream",
     "text": [
      "1 2 3\n"
     ]
    },
    {
     "data": {
      "text/plain": [
       "(1, 2, 3)"
      ]
     },
     "execution_count": 5,
     "metadata": {},
     "output_type": "execute_result"
    }
   ],
   "source": [
    "x, y, z = input().strip().split()\n",
    "x = int(x)\n",
    "y = int(y)\n",
    "z = int(z)\n",
    "x, y, z"
   ]
  },
  {
   "cell_type": "code",
   "execution_count": 6,
   "id": "808f80ed",
   "metadata": {
    "ExecuteTime": {
     "end_time": "2021-10-17T08:37:34.706753Z",
     "start_time": "2021-10-17T08:37:32.596418Z"
    }
   },
   "outputs": [
    {
     "name": "stdout",
     "output_type": "stream",
     "text": [
      "1 2 3\n"
     ]
    },
    {
     "data": {
      "text/plain": [
       "6"
      ]
     },
     "execution_count": 6,
     "metadata": {},
     "output_type": "execute_result"
    }
   ],
   "source": [
    "x, y, z = map(int, input().strip().split())\n",
    "volume = x * y * z\n",
    "\n",
    "volume"
   ]
  },
  {
   "cell_type": "code",
   "execution_count": 7,
   "id": "e6f93f5e",
   "metadata": {
    "ExecuteTime": {
     "end_time": "2021-10-17T08:39:20.800055Z",
     "start_time": "2021-10-17T08:39:17.552865Z"
    }
   },
   "outputs": [
    {
     "name": "stdout",
     "output_type": "stream",
     "text": [
      "1 2 3\n"
     ]
    },
    {
     "data": {
      "text/plain": [
       "6"
      ]
     },
     "execution_count": 7,
     "metadata": {},
     "output_type": "execute_result"
    }
   ],
   "source": [
    "from functools import reduce\n",
    "\n",
    "volume = reduce(lambda x, y: x * y, map(int, input().strip().split()))\n",
    "\n",
    "volume"
   ]
  },
  {
   "cell_type": "code",
   "execution_count": null,
   "id": "0bb5bc5c",
   "metadata": {},
   "outputs": [],
   "source": []
  }
 ],
 "metadata": {
  "kernelspec": {
   "display_name": "Python 3 (ipykernel)",
   "language": "python",
   "name": "python3"
  },
  "language_info": {
   "codemirror_mode": {
    "name": "ipython",
    "version": 3
   },
   "file_extension": ".py",
   "mimetype": "text/x-python",
   "name": "python",
   "nbconvert_exporter": "python",
   "pygments_lexer": "ipython3",
   "version": "3.9.7"
  }
 },
 "nbformat": 4,
 "nbformat_minor": 5
}
