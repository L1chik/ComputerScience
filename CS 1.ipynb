{
 "cells": [
  {
   "cell_type": "markdown",
   "id": "5ef9b6d7",
   "metadata": {
    "ExecuteTime": {
     "end_time": "2021-10-17T07:09:43.704893Z",
     "start_time": "2021-10-17T07:09:43.698909Z"
    }
   },
   "source": [
    "# 1\n",
    "## Установка python \n",
    "### https://www.python.org/downloads/ \n",
    "3.9, рассказать про 3.10 **наверное на другом занятии**"
   ]
  },
  {
   "cell_type": "markdown",
   "id": "d376bb83",
   "metadata": {
    "ExecuteTime": {
     "end_time": "2021-10-17T07:09:45.881240Z",
     "start_time": "2021-10-17T07:09:45.870270Z"
    }
   },
   "source": [
    "# 2 Настройка окружения \n",
    "1. **py -0** || показывает доступные версии питона на компьютере\n",
    "2. **Set-ExecutionPolicy Unrestricted** || Разрешить исполнение скриптов в PowerShell\n",
    "3. **py -3.9 -m venv test** || Создаем оркужение с конкретной версией питона\n",
    "4. **D\\All\\ComputerScience\\test\\Scripts\\Activate.ps1** || Активируем окружение\n",
    "5. **pip install jupyter** || Установить юпитер\n",
    "6. **juputer notebook** || запустить ноутбук"
   ]
  },
  {
   "cell_type": "markdown",
   "id": "1bba52c2",
   "metadata": {
    "ExecuteTime": {
     "end_time": "2021-10-17T07:09:53.541307Z",
     "start_time": "2021-10-17T07:09:53.527373Z"
    }
   },
   "source": [
    "# 3 Установка PyCharm\n",
    "\n",
    "### Настройка визуала: ***Плагин Material Theme UI***, шрифты\n",
    "### Рассказать про HotKeys\n",
    "\n",
    "1. **Alt + ->** || переключение между табами\n",
    "2. **Показать про разделенеи экрана**\n",
    "3. **Ctrl + Home // Ctrl + End** || Переключение в начала и конец файла\n",
    "4. **Ctrl + []** || Перемешение в начало и конец логич. блока \n",
    "5. **Ctrl + Shift + []** || выделение \n",
    "6. **Ctrl + Alr + <-/->** || Перемещает к предыдущему/следующему действию в истории\n",
    "7. **Ctrl + Shift + BackSpace** || Перемещение к последнему изменению в коде\n",
    "8. **Ctrl + B** || Перемещ. к реалзизации: к вызову. функции, к использованию библиотеки.\n",
    "9. **F11 , Shift + F11** || ставит закладку, показывает список всех закладок\n",
    "10. **Ctrl + F11, Ctrl + цифра** || Можно забиндить закладку на клавишу и переместиться к ней\n",
    "11. **Ctrl + Shift + -, Ctrl + Shift + +** || Свернуть/ развернуть ВСЕ блоки файла, можно по отдельности\n",
    "12. **Shift + Shift** || Поиск везде\n",
    "12.1 **Ctrl + N** || поиск классов\n",
    "12.2 **Ctrl + Shift + N** || поиск файлов\n",
    "13. **Ctrl + E, Ctrl + Shift + E** || недавние файлы и места в которых вы были\n",
    "14. **F5, F6** || копия, перемещение файла\n",
    "\n",
    "!!!! Для редактирования кода\n",
    "15. **Ctrl + W** || выделение кода с учетом синтаксиса\n",
    "16. **Ctrl + Y** || Удаление всей строки на которой находится курсор\n",
    "17. **Shift + Del** || удал. всю строку, но курсор переносится в начало\n",
    "18. **Ctrl + C** || Без выделения работает для всей строки\n",
    "19. **Ctrl + D** || Дублирование строки\n",
    "20. **Alt + Shift + Down** || Перемещение строки вниз//верх\n",
    "21. **Ctrl + Shift + Down** || Перемещение логического блока вверх вниз\n",
    "22. **Alt + ЛКМ** || мультикурсор\n",
    "\n",
    "23. **Ctrl + Alt + L** || Форматирование выбранного текста по PEP-8 https://www.python.org/dev/peps/pep-0008/\n",
    "24. **Ctrl + Alt + T** || Обёртывание кода\n",
    "25. **Ctrl + Shift + Del** || Убрать из блока кода\n",
    "25. **Alt + J** || Выбрать символ на курсоре \n",
    "26."
   ]
  },
  {
   "cell_type": "code",
   "execution_count": null,
   "id": "fff2c87c",
   "metadata": {},
   "outputs": [],
   "source": []
  },
  {
   "cell_type": "code",
   "execution_count": null,
   "id": "8ed287f7",
   "metadata": {},
   "outputs": [],
   "source": []
  }
 ],
 "metadata": {
  "kernelspec": {
   "display_name": "Python 3 (ipykernel)",
   "language": "python",
   "name": "python3"
  },
  "language_info": {
   "codemirror_mode": {
    "name": "ipython",
    "version": 3
   },
   "file_extension": ".py",
   "mimetype": "text/x-python",
   "name": "python",
   "nbconvert_exporter": "python",
   "pygments_lexer": "ipython3",
   "version": "3.9.7"
  }
 },
 "nbformat": 4,
 "nbformat_minor": 5
}
