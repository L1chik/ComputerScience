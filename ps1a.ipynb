{
 "cells": [
  {
   "cell_type": "markdown",
   "id": "9b4827f6",
   "metadata": {
    "ExecuteTime": {
     "end_time": "2021-10-23T15:12:57.302309Z",
     "start_time": "2021-10-23T15:12:57.291340Z"
    }
   },
   "source": [
    "# Part A: House Hunting"
   ]
  },
  {
   "cell_type": "code",
   "execution_count": null,
   "id": "6131e6c1",
   "metadata": {
    "ExecuteTime": {
     "end_time": "2021-10-23T15:54:00.793835Z",
     "start_time": "2021-10-23T15:53:36.914219Z"
    }
   },
   "outputs": [],
   "source": [
    "# Preprocessing user inputs\n",
    "\n",
    "print(\"Enter: \\n 1. The cost of your dream home \\n 2. The staring annual sallary \\n 3. The portion of salary to be saved\")\n",
    "total_cost, annual_salary, portion_saved = map((float), input().strip().split())"
   ]
  },
  {
   "cell_type": "code",
   "execution_count": null,
   "id": "8b6cb31a",
   "metadata": {
    "ExecuteTime": {
     "end_time": "2021-10-23T15:54:01.892795Z",
     "start_time": "2021-10-23T15:54:01.885175Z"
    }
   },
   "outputs": [],
   "source": [
    "# Preprocessing static input\n",
    "\n",
    "# Defaults\n",
    "portion_down_payment = 0.25 * total_cost\n",
    "current_saving = 0\n",
    "r = 0.04  # it's an annual rate\n",
    "\n",
    "# Calculus\n",
    "annuall_return = (current_saving * r)/12\n",
    "montly_sallary = annual_salary / 12\n",
    "portion_saved *= montly_sallary\n",
    "\n",
    "# Goal\n",
    "months = 0"
   ]
  },
  {
   "cell_type": "code",
   "execution_count": null,
   "id": "442b445e",
   "metadata": {
    "ExecuteTime": {
     "end_time": "2021-10-23T15:54:02.253861Z",
     "start_time": "2021-10-23T15:54:02.237261Z"
    }
   },
   "outputs": [],
   "source": [
    "# Result\n",
    "while current_saving <= portion_down_payment:\n",
    "    current_saving += portion_saved + annuall_return\n",
    "    annuall_return = (current_saving * r)/12\n",
    "    \n",
    "    months += 1\n",
    "\n",
    "print(f\"Number of months for down payment: {months}\")"
   ]
  },
  {
   "cell_type": "markdown",
   "id": "4db6863d",
   "metadata": {},
   "source": [
    "# Part B: Saving, with a raise"
   ]
  },
  {
   "cell_type": "code",
   "execution_count": 33,
   "id": "fe1d589f",
   "metadata": {
    "ExecuteTime": {
     "end_time": "2021-10-23T17:22:36.414112Z",
     "start_time": "2021-10-23T17:22:35.753459Z"
    }
   },
   "outputs": [
    {
     "name": "stdout",
     "output_type": "stream",
     "text": [
      "Enter: \n",
      " 1. The cost of your dream home \n",
      " 2. The staring annual sallary \n",
      " 3. The portion of salary to be saved \n",
      " 4. The semi-annual salart raise\n",
      "800000 80000 0.1 0.03\n"
     ]
    }
   ],
   "source": [
    "print(\"Enter: \\n 1. The cost of your dream home \\n\\\n",
    " 2. The staring annual sallary \\n 3. The portion of salary to be saved \\n\\\n",
    " 4. The semi-annual salart raise\")\n",
    "\n",
    "total_cost, annual_salary, portion_saved, semi_annual_raise = map((float), input().strip().split())"
   ]
  },
  {
   "cell_type": "code",
   "execution_count": 34,
   "id": "9ecb7439",
   "metadata": {
    "ExecuteTime": {
     "end_time": "2021-10-23T17:22:36.724967Z",
     "start_time": "2021-10-23T17:22:36.711221Z"
    }
   },
   "outputs": [],
   "source": [
    "# Preprocessing static input\n",
    "\n",
    "# Defaults\n",
    "portion_down_payment = 0.25 * total_cost\n",
    "current_saving = 0\n",
    "r = 0.04  # it's an annual rate\n",
    "\n",
    "# Calculus\n",
    "annuall_return = (current_saving * r)/12\n",
    "monthly_sallary = annual_salary / 12\n",
    "\n",
    "# Goal\n",
    "months = 0"
   ]
  },
  {
   "cell_type": "code",
   "execution_count": 35,
   "id": "7c183e83",
   "metadata": {
    "ExecuteTime": {
     "end_time": "2021-10-23T17:22:37.146775Z",
     "start_time": "2021-10-23T17:22:37.138777Z"
    }
   },
   "outputs": [
    {
     "name": "stdout",
     "output_type": "stream",
     "text": [
      "Number of months for down payment: 159\n"
     ]
    }
   ],
   "source": [
    "# Result\n",
    "while current_saving <= portion_down_payment:    \n",
    "    monthly_sallary = annual_salary / 12\n",
    "    current_saving += monthly_sallary * portion_saved + annuall_return\n",
    "    annuall_return = (current_saving * r)/12\n",
    "    \n",
    "    months += 1\n",
    "    if months%6 == 0: \n",
    "        annual_salary = annual_salary + (annual_salary * semi_annual_raise)\n",
    "        \n",
    "        \n",
    "print(f\"Number of months for down payment: {months}\")"
   ]
  }
 ],
 "metadata": {
  "celltoolbar": "Редактировать метаданные",
  "kernelspec": {
   "display_name": "Python 3 (ipykernel)",
   "language": "python",
   "name": "python3"
  },
  "language_info": {
   "codemirror_mode": {
    "name": "ipython",
    "version": 3
   },
   "file_extension": ".py",
   "mimetype": "text/x-python",
   "name": "python",
   "nbconvert_exporter": "python",
   "pygments_lexer": "ipython3",
   "version": "3.9.7"
  }
 },
 "nbformat": 4,
 "nbformat_minor": 5
}
