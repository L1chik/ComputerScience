{
 "cells": [
  {
   "cell_type": "markdown",
   "id": "9b4827f6",
   "metadata": {
    "ExecuteTime": {
     "end_time": "2021-10-23T15:12:57.302309Z",
     "start_time": "2021-10-23T15:12:57.291340Z"
    }
   },
   "source": [
    "# Part A: House Hunting"
   ]
  },
  {
   "cell_type": "code",
   "execution_count": 1,
   "id": "6131e6c1",
   "metadata": {
    "ExecuteTime": {
     "end_time": "2021-10-23T15:54:00.793835Z",
     "start_time": "2021-10-23T15:53:36.914219Z"
    }
   },
   "outputs": [
    {
     "name": "stdout",
     "output_type": "stream",
     "text": [
      "Enter: \n",
      " 1. The cost of your dream home \n",
      " 2. The staring annual sallary \n",
      " 3. The portion of salary to be saved\n"
     ]
    },
    {
     "ename": "ValueError",
     "evalue": "not enough values to unpack (expected 3, got 1)",
     "output_type": "error",
     "traceback": [
      "\u001B[0;31m---------------------------------------------------------------------------\u001B[0m",
      "\u001B[0;31mValueError\u001B[0m                                Traceback (most recent call last)",
      "\u001B[0;32m/tmp/ipykernel_5279/2084253901.py\u001B[0m in \u001B[0;36m<module>\u001B[0;34m\u001B[0m\n\u001B[1;32m      2\u001B[0m \u001B[0;34m\u001B[0m\u001B[0m\n\u001B[1;32m      3\u001B[0m \u001B[0mprint\u001B[0m\u001B[0;34m(\u001B[0m\u001B[0;34m\"Enter: \\n 1. The cost of your dream home \\n 2. The staring annual sallary \\n 3. The portion of salary to be saved\"\u001B[0m\u001B[0;34m)\u001B[0m\u001B[0;34m\u001B[0m\u001B[0;34m\u001B[0m\u001B[0m\n\u001B[0;32m----> 4\u001B[0;31m \u001B[0mtotal_cost\u001B[0m\u001B[0;34m,\u001B[0m \u001B[0mannual_salary\u001B[0m\u001B[0;34m,\u001B[0m \u001B[0mportion_saved\u001B[0m \u001B[0;34m=\u001B[0m \u001B[0mmap\u001B[0m\u001B[0;34m(\u001B[0m\u001B[0;34m(\u001B[0m\u001B[0mfloat\u001B[0m\u001B[0;34m)\u001B[0m\u001B[0;34m,\u001B[0m \u001B[0minput\u001B[0m\u001B[0;34m(\u001B[0m\u001B[0;34m)\u001B[0m\u001B[0;34m.\u001B[0m\u001B[0mstrip\u001B[0m\u001B[0;34m(\u001B[0m\u001B[0;34m)\u001B[0m\u001B[0;34m.\u001B[0m\u001B[0msplit\u001B[0m\u001B[0;34m(\u001B[0m\u001B[0;34m)\u001B[0m\u001B[0;34m)\u001B[0m\u001B[0;34m\u001B[0m\u001B[0;34m\u001B[0m\u001B[0m\n\u001B[0m\u001B[1;32m      5\u001B[0m \u001B[0;34m\u001B[0m\u001B[0m\n",
      "\u001B[0;31mValueError\u001B[0m: not enough values to unpack (expected 3, got 1)"
     ]
    }
   ],
   "source": [
    "# Preprocessing user inputs\n",
    "\n",
    "print(\"Enter: \\n 1. The cost of your dream home \\n 2. The staring annual sallary \\n 3. The portion of salary to be saved\")\n",
    "total_cost, annual_salary, portion_saved = map((float), input().strip().split())"
   ]
  },
  {
   "cell_type": "code",
   "execution_count": null,
   "id": "8b6cb31a",
   "metadata": {
    "ExecuteTime": {
     "end_time": "2021-10-23T15:54:01.892795Z",
     "start_time": "2021-10-23T15:54:01.885175Z"
    }
   },
   "outputs": [],
   "source": [
    "# Preprocessing static input\n",
    "\n",
    "# Defaults\n",
    "portion_down_payment = 0.25 * total_cost\n",
    "current_saving = 0\n",
    "r = 0.04  # it's an annual rate\n",
    "\n",
    "# Calculus\n",
    "annuall_return = (current_saving * r)/12\n",
    "montly_sallary = annual_salary / 12\n",
    "portion_saved *= montly_sallary\n",
    "\n",
    "# Goal\n",
    "months = 0"
   ]
  },
  {
   "cell_type": "code",
   "execution_count": null,
   "id": "442b445e",
   "metadata": {
    "ExecuteTime": {
     "end_time": "2021-10-23T15:54:02.253861Z",
     "start_time": "2021-10-23T15:54:02.237261Z"
    }
   },
   "outputs": [],
   "source": [
    "# Result\n",
    "while current_saving <= portion_down_payment:\n",
    "    current_saving += portion_saved + annuall_return\n",
    "    annuall_return = (current_saving * r)/12\n",
    "    \n",
    "    months += 1\n",
    "\n",
    "print(f\"Number of months for down payment: {months}\")"
   ]
  },
  {
   "cell_type": "markdown",
   "id": "4db6863d",
   "metadata": {},
   "source": [
    "# Part B: Saving, with a raise"
   ]
  },
  {
   "cell_type": "code",
   "execution_count": null,
   "id": "fe1d589f",
   "metadata": {
    "ExecuteTime": {
     "end_time": "2021-10-23T17:22:36.414112Z",
     "start_time": "2021-10-23T17:22:35.753459Z"
    }
   },
   "outputs": [],
   "source": [
    "print(\"Enter: \\n 1. The cost of your dream home \\n\\\n",
    " 2. The staring annual sallary \\n 3. The portion of salary to be saved \\n\\\n",
    " 4. The semi-annual salart raise\")\n",
    "\n",
    "total_cost, annual_salary, portion_saved, semi_annual_raise = map((float), input().strip().split())"
   ]
  },
  {
   "cell_type": "code",
   "execution_count": null,
   "id": "9ecb7439",
   "metadata": {
    "ExecuteTime": {
     "end_time": "2021-10-23T17:22:36.724967Z",
     "start_time": "2021-10-23T17:22:36.711221Z"
    }
   },
   "outputs": [],
   "source": [
    "# Preprocessing static input\n",
    "\n",
    "# Defaults\n",
    "portion_down_payment = 0.25 * total_cost\n",
    "current_saving = 0\n",
    "r = 0.04  # it's an annual rate\n",
    "\n",
    "# Calculus\n",
    "annuall_return = (current_saving * r)/12\n",
    "monthly_sallary = annual_salary / 12\n",
    "\n",
    "# Goal\n",
    "months = 0"
   ]
  },
  {
   "cell_type": "code",
   "execution_count": null,
   "id": "7c183e83",
   "metadata": {
    "ExecuteTime": {
     "end_time": "2021-10-23T17:22:37.146775Z",
     "start_time": "2021-10-23T17:22:37.138777Z"
    },
    "pycharm": {
     "name": "#%%\n"
    }
   },
   "outputs": [],
   "source": [
    "# Result\n",
    "while current_saving <= portion_down_payment:    \n",
    "    monthly_sallary = annual_salary / 12\n",
    "    current_saving += monthly_sallary * portion_saved + annuall_return\n",
    "    annuall_return = (current_saving * r)/12\n",
    "    \n",
    "    months += 1\n",
    "    if months%6 == 0: \n",
    "        annual_salary = annual_salary + (annual_salary * semi_annual_raise)\n",
    "        \n",
    "        \n",
    "print(f\"Number of months for down payment: {months}\")"
   ]
  },
  {
   "cell_type": "markdown",
   "id": "e4c69e96",
   "metadata": {
    "pycharm": {
     "name": "#%% md\n"
    }
   },
   "source": [
    "# Part C: Finding the right amount to save away\n",
    "\n"
   ]
  },
  {
   "cell_type": "code",
   "execution_count": 21,
   "id": "ded8ea80",
   "metadata": {
    "pycharm": {
     "name": "#%%\n"
    }
   },
   "outputs": [],
   "source": [
    "# Input\n",
    "annual_salary = float(input(\"Enter the starting salary: \"))\n",
    "\n",
    "# Static\n",
    "total_cost = 1000000\n",
    "semi_annual_raise = 0.07\n",
    "current_savings = 0\n",
    "r = .04\n",
    "\n",
    "# Calculated\n",
    "portion_down_payment = 0.25 * total_cost\n",
    "monthly_salary = annual_salary / 12\n",
    "annual_return = (current_savings * r) / 12"
   ]
  },
  {
   "cell_type": "code",
   "execution_count": 29,
   "id": "34ff1833",
   "metadata": {
    "pycharm": {
     "name": "#%%\n"
    }
   },
   "outputs": [],
   "source": [
    "# Algorithms\n",
    "def months_amount(salary, saved, months=0, current_savings=0, annual_salary=annual_salary,\n",
    "                  r=.04, annual_return=0, semi_annual_raise=.07) -> int:\n",
    "\n",
    "    while current_savings < portion_down_payment:\n",
    "        months += 1\n",
    "        salary = annual_salary/12\n",
    "        current_savings += salary * saved + annual_return\n",
    "        annual_return = (current_savings * r)/12\n",
    "\n",
    "        if months % 6 == 0:\n",
    "            annual_salary = annual_salary + (annual_salary * semi_annual_raise)\n",
    "\n",
    "    return months\n",
    "        \n",
    "\n",
    "def binary_search(start, end, counter=0) -> ():\n",
    "    mid = (start+end) / 2.0\n",
    "    months_counter = months_amount(monthly_salary, mid, annual_salary=annual_salary)\n",
    "    # print(counter, mid, end-start)\n",
    "    \n",
    "    if (end - start) <= 0.0001: return print(f\"Best savings rate: {mid:.4f} \\n\\\n",
    "Steps in bisection search: {counter}\")\n",
    "    if months_counter > 36: return binary_search(mid+0.0001, end, counter+1)\n",
    "    if months_counter <= 36: return binary_search(start, mid, counter+1)"
   ]
  },
  {
   "cell_type": "code",
   "execution_count": 30,
   "id": "984115d0",
   "metadata": {
    "pycharm": {
     "name": "#%%\n"
    }
   },
   "outputs": [
    {
     "name": "stdout",
     "output_type": "stream",
     "text": [
      "Best savings rate: 0.4411 \n",
      "Steps in bisection search: 13\n"
     ]
    }
   ],
   "source": [
    "# Result\n",
    "binary_search(0, 1, 0) if months_amount(monthly_salary, 1, annual_salary=annual_salary) <\\\n",
    "                          36 else print(\"It is not possible to pay the down payment in three years.\")"
   ]
  },
  {
   "cell_type": "code",
   "execution_count": null,
   "id": "4f5288da",
   "metadata": {},
   "outputs": [],
   "source": []
  },
  {
   "cell_type": "code",
   "execution_count": null,
   "id": "1910e5b3",
   "metadata": {},
   "outputs": [],
   "source": []
  }
 ],
 "metadata": {
  "celltoolbar": "Редактировать метаданные",
  "kernelspec": {
   "display_name": "Python 3 (ipykernel)",
   "language": "python",
   "name": "python3"
  },
  "language_info": {
   "codemirror_mode": {
    "name": "ipython",
    "version": 3
   },
   "file_extension": ".py",
   "mimetype": "text/x-python",
   "name": "python",
   "nbconvert_exporter": "python",
   "pygments_lexer": "ipython3",
   "version": "3.9.5"
  }
 },
 "nbformat": 4,
 "nbformat_minor": 5
}